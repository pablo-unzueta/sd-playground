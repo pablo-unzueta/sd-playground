{
 "cells": [
  {
   "cell_type": "markdown",
   "metadata": {},
   "source": [
    "# nn\n",
    "\n",
    "> routines for neural network classes"
   ]
  },
  {
   "cell_type": "code",
   "execution_count": null,
   "metadata": {},
   "outputs": [],
   "source": [
    "#| default_exp nn"
   ]
  },
  {
   "cell_type": "code",
   "execution_count": null,
   "metadata": {},
   "outputs": [],
   "source": [
    "#| export\n",
    "import torch\n",
    "import torch.nn as nn"
   ]
  },
  {
   "cell_type": "code",
   "execution_count": null,
   "metadata": {},
   "outputs": [],
   "source": [
    "class ScoreDynamicsDiffuser:\n",
    "    def __init__(self, sigma_scale=1.0, schedule='linear', t_min=1e-3):\n",
    "        self.schedule = schedule\n",
    "        self.t_min = t_min\n",
    "        self.sigma_scale = sigma_scale\n",
    "\n",
    "        if schedule == 'linear':\n",
    "            beta_0, beta_1 = 0.1, 20\n",
    "            self.t_max     = 1\n",
    "            self.gamma_t   = lambda t: torch.exp(-(beta_0*t/2+t.pow(2)/4*(beta_1-beta_0)))\n",
    "            self.t_lambda  = lambda lmd: 2*torch.log(torch.exp(-2*lmd)+1)/(torch.sqrt(\\\n",
    "                beta_0**2 + (beta_1-beta_0)*2*torch.log(torch.exp(-2*lmd)+1)) + beta_0)\n",
    "        else:\n",
    "            raise NotImplementedError(f'Unknown noise schedule {schedule}')\n",
    "\n",
    "        self.sigma_t    = lambda t: torch.sqrt(1-self.gamma_t(t)**2)\n",
    "        self.lambda_t   = lambda t: torch.log(self.gamma_t(t)/self.sigma_t(t))\n",
    "        self.lambda_min = self.lambda_t(torch.tensor(self.t_min)).item()\n",
    "        self.lambda_max = self.lambda_t(torch.tensor(self.t_max)).item()\n"
   ]
  },
  {
   "cell_type": "markdown",
   "metadata": {},
   "source": [
    "## Linear Noise Schedule [paper](https://arxiv.org/pdf/2011.13456.pdf) $$ (\\alpha_{\\tau}, \\sigma_{\\tau}) $$\n",
    "\n",
    "### Need to look at the paper some more. Appendex B of paper has more info\n",
    "$$ log \\gamma_\\tau= - \\frac{\\beta_1 - \\beta_0}{2}\\tau^{2} - \\beta_0\\tau$$\n",
    "$$ \\alpha_{\\tau} = b \\sqrt{\\gamma_{\\tau}} $$ \n",
    "$$ \\sigma_{\\tau} = \\sqrt{1 - \\gamma_{\\tau}}$$ "
   ]
  },
  {
   "cell_type": "code",
   "execution_count": null,
   "metadata": {},
   "outputs": [],
   "source": []
  },
  {
   "cell_type": "code",
   "execution_count": null,
   "metadata": {},
   "outputs": [
    {
     "name": "stderr",
     "output_type": "stream",
     "text": [
      "/Users/pablo/software/miniconda3/envs/sd-playground/lib/python3.10/site-packages/nbdev/export.py:73: UserWarning: Notebook '/Users/pablo/software/sd-playground/nbs/02_nn.ipynb' uses `#|export` without `#|default_exp` cell.\n",
      "Note nbdev2 no longer supports nbdev1 syntax. Run `nbdev_migrate` to upgrade.\n",
      "See https://nbdev.fast.ai/getting_started.html for more information.\n",
      "  warn(f\"Notebook '{nbname}' uses `#|export` without `#|default_exp` cell.\\n\"\n"
     ]
    }
   ],
   "source": [
    "#| hide\n",
    "import nbdev; nbdev.nbdev_export()"
   ]
  },
  {
   "cell_type": "code",
   "execution_count": null,
   "metadata": {},
   "outputs": [],
   "source": []
  }
 ],
 "metadata": {
  "kernelspec": {
   "display_name": "python3",
   "language": "python",
   "name": "python3"
  }
 },
 "nbformat": 4,
 "nbformat_minor": 2
}
