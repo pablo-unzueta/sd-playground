{
 "cells": [
  {
   "cell_type": "markdown",
   "metadata": {},
   "source": [
    "# AtomsToGraph\n",
    "\n",
    "> Routine to convert ase atom objects to graphs"
   ]
  },
  {
   "cell_type": "code",
   "execution_count": null,
   "metadata": {},
   "outputs": [],
   "source": [
    "#| default_exp AtomsToGraph"
   ]
  },
  {
   "cell_type": "code",
   "execution_count": null,
   "metadata": {},
   "outputs": [],
   "source": [
    "#| hide\n",
    "from nbdev.showdoc import *\n",
    "from fastcore.test import *"
   ]
  },
  {
   "cell_type": "code",
   "execution_count": null,
   "metadata": {},
   "outputs": [],
   "source": [
    "#| export\n",
    "from ase.io import read, write\n",
    "from ase import Atoms\n",
    "from sklearn.preprocessing import OneHotEncoder\n",
    "import numpy as np\n",
    "import torch\n",
    "from torch_geometric.data import InMemoryDataset, Data\n",
    "from typing import List \n",
    "from torch_geometric.nn import radius_graph\n",
    "from torch_geometric.transforms import OneHotDegree\n",
    "from sd_playground.basis import GaussianSmearing\n",
    "from torch_geometric.transforms import Distance\n",
    "import matplotlib.pyplot as plt"
   ]
  },
  {
   "cell_type": "markdown",
   "metadata": {},
   "source": [
    "## ASE File IO\n",
    "\n",
    "Read in an extxyz using ASE's read function"
   ]
  },
  {
   "cell_type": "code",
   "execution_count": null,
   "metadata": {},
   "outputs": [
    {
     "name": "stdout",
     "output_type": "stream",
     "text": [
      "Atoms(symbols='CH4', pbc=False)\n",
      "[[ 0.     0.     0.   ]\n",
      " [ 0.625  0.625  0.625]\n",
      " [-0.625 -0.625  0.625]\n",
      " [-0.625  0.625 -0.625]\n",
      " [ 0.625 -0.625 -0.625]]\n",
      "['C', 'H', 'H', 'H', 'H']\n"
     ]
    }
   ],
   "source": [
    "read_atoms = read(\"../tests/methane.extxyz\")\n",
    "print(read_atoms)\n",
    "print(read_atoms.get_positions())\n",
    "print(read_atoms.get_chemical_symbols())"
   ]
  },
  {
   "cell_type": "code",
   "execution_count": null,
   "metadata": {},
   "outputs": [
    {
     "name": "stdout",
     "output_type": "stream",
     "text": [
      "[[0.         1.08253175 1.08253175 1.08253175 1.08253175]\n",
      " [1.08253175 0.         1.76776695 1.76776695 1.76776695]\n",
      " [1.08253175 1.76776695 0.         1.76776695 1.76776695]\n",
      " [1.08253175 1.76776695 1.76776695 0.         1.76776695]\n",
      " [1.08253175 1.76776695 1.76776695 1.76776695 0.        ]]\n"
     ]
    }
   ],
   "source": [
    "#| hide\n",
    "atom_symbols = [\"C\", \"H\", \"H\", \"H\", \"H\"]\n",
    "coords = [[0.000, 0.000, 0.000],\n",
    "          [0.625, 0.625, 0.625],\n",
    "          [-0.625, -0.625, 0.625],\n",
    "          [-0.625, 0.625, -0.625],\n",
    "          [0.625, -0.625, -0.625]]\n",
    "atoms = Atoms(atom_symbols, coords)\n",
    "test_eq(read_atoms.get_positions(), atoms.get_positions())\n",
    "test_eq(read_atoms.get_chemical_symbols(), atoms.get_chemical_symbols())\n",
    "print(atoms.get_all_distances())"
   ]
  },
  {
   "cell_type": "code",
   "execution_count": null,
   "metadata": {},
   "outputs": [],
   "source": []
  },
  {
   "cell_type": "code",
   "execution_count": null,
   "metadata": {},
   "outputs": [],
   "source": [
    "#| export\n",
    "class OneHotAtomSymbols:\n",
    "    \"\"\"\n",
    "    Generate one-hot features for a list of atom symbols.\n",
    "    \"\"\"\n",
    "    def __init__(self, symbols: list, # atom symbols\n",
    "                 ) -> np.ndarray: # [M, N] where M is the number of atoms, and N is the number of unique atom symbols\n",
    "        symbols = np.array(symbols).reshape(-1, 1) # Convert List to 2D array with N rows and 1 column\n",
    "        enc = OneHotEncoder(sparse_output=False)\n",
    "        self.enc = enc.fit(symbols) # Creates one-hot encoder with N rows and M unique elments for the columns\n",
    "    \n",
    "    def __call__(self, \n",
    "                 symbols: list\n",
    "                 ) -> np.ndarray:\n",
    "        return self.enc.transform(np.array(symbols).reshape(-1, 1))"
   ]
  },
  {
   "cell_type": "markdown",
   "metadata": {},
   "source": [
    "## One Hot Encoding\n",
    "\n",
    "Instead of atom symbols, we use one hot encoding to discretize atom types"
   ]
  },
  {
   "cell_type": "code",
   "execution_count": null,
   "metadata": {},
   "outputs": [
    {
     "data": {
      "text/plain": [
       "array([[1., 0.],\n",
       "       [0., 1.],\n",
       "       [0., 1.],\n",
       "       [0., 1.],\n",
       "       [0., 1.]])"
      ]
     },
     "execution_count": null,
     "metadata": {},
     "output_type": "execute_result"
    }
   ],
   "source": [
    "one_hot_features = OneHotAtomSymbols(atom_symbols)\n",
    "one_hot_features(atom_symbols)"
   ]
  },
  {
   "cell_type": "code",
   "execution_count": null,
   "metadata": {},
   "outputs": [],
   "source": [
    "#| hide\n",
    "methane_onehot = np.array([[1., 0.], [0., 1.], [0., 1.], [0., 1.], [0., 1.]])\n",
    "one_hot_features = OneHotAtomSymbols(atom_symbols)\n",
    "test_eq(one_hot_features(atom_symbols), methane_onehot)"
   ]
  },
  {
   "cell_type": "code",
   "execution_count": null,
   "metadata": {},
   "outputs": [],
   "source": [
    "#| hide\n",
    "read_atoms = [read_atoms, read_atoms]"
   ]
  },
  {
   "cell_type": "code",
   "execution_count": null,
   "metadata": {},
   "outputs": [],
   "source": [
    "#| export\n",
    "\n",
    "class ScoreDynamicsDataset(InMemoryDataset):\n",
    "    def __init__(self,\n",
    "                 root, # folder where the dataset should be stored. Splits into raw_dir and processed_dir\n",
    "                 cutoff=5.0, # cutoff radius for the neighbor list\n",
    "                 max_num_neighbors=50, # maximum number of neighbors for each atom\n",
    "                 transform=None, # dynamically transforms the data object before accessing (e.g. data augmentation)\n",
    "                 pre_transform=None, # applices transformation before saving to disk (e.g. best used for heavy precomputations)\n",
    "                 pre_filter=None # filter out data objects before saving to disk\n",
    "                 ):\n",
    "         self.cutoff = cutoff\n",
    "         self.max_num_neighbors = max_num_neighbors\n",
    "         super().__init__(root, transform, pre_transform, pre_filter)\n",
    "         self.load(self.processed_paths[0])\n",
    "    \n",
    "    @property\n",
    "    def raw_file_names(self):\n",
    "        return [\"data.extxyz\"]\n",
    "\n",
    "    @property\n",
    "    def processed_file_names(self):\n",
    "        return ['data.pt']\n",
    "    \n",
    "    def process(self):\n",
    "        gaussian_basis = GaussianSmearing()\n",
    "        atoms = read(self.raw_paths[0], index=\":\")\n",
    "        data_list = []\n",
    "        all_unique_atoms = []\n",
    "        for i in range(len(atoms)):\n",
    "            data = Data()\n",
    "            data[\"x\"] = torch.Tensor(atoms[i].get_atomic_numbers())\n",
    "            data[\"symbols\"] = atoms[i].get_chemical_symbols()\n",
    "            # data[\"num_nodes\"] = atoms[i].get_global_number_of_atoms()\n",
    "            data[\"pos\"] = torch.Tensor(read_atoms[i].get_positions())\n",
    "            \n",
    "            # Connectivity\n",
    "            data[\"edge_index\"] = radius_graph(data[\"pos\"], r=self.cutoff, batch=None, loop=True, max_num_neighbors=self.max_num_neighbors)\n",
    "\n",
    "            # Convert distances to edge features            \n",
    "            distances = Distance(norm=False, cat=False)(data)[\"edge_attr\"]\n",
    "            data[\"edge_attr\"] = gaussian_basis(distances).squeeze(1) # squeeze removes singleton dimension\n",
    "\n",
    "            data[\"y\"] = []\n",
    "            data[\"structure_id\"] = i\n",
    "            data_list.append(data)\n",
    "\n",
    "            unique_atoms = list(set(read_atoms[i].get_chemical_symbols()))\n",
    "            for atom in unique_atoms:\n",
    "                if atom not in all_unique_atoms:\n",
    "                    all_unique_atoms.append(atom)\n",
    "\n",
    "        # Conver Atomic Numbers to One-Hot Features\n",
    "        self.unique_atoms = all_unique_atoms\n",
    "        one_hot_features = OneHotAtomSymbols(self.unique_atoms)\n",
    "        for data in data_list:\n",
    "            data[\"x\"] = one_hot_features(data[\"symbols\"])\n",
    "\n",
    "        if self.pre_filter is not None:\n",
    "            data_list = [data for data in data_list if self.pre_filter(data)]\n",
    "\n",
    "        if self.pre_transform is not None:\n",
    "            data_list = [self.pre_transform(data) for data in data_list]\n",
    "\n",
    "        self.save(data_list, self.processed_paths[0])"
   ]
  },
  {
   "cell_type": "code",
   "execution_count": null,
   "metadata": {},
   "outputs": [],
   "source": []
  },
  {
   "cell_type": "markdown",
   "metadata": {},
   "source": [
    "## Create InMemory dataset\n",
    "\n",
    "In order to create an `ScoreDynamicsDataset`, one needs to set up a data directory with two subdirectores: raw and processed. Inside raw, place the ase .extxyz file called \"data.extxyz\". Then pass that data directory to the `ScoreDynamicsDataset`. Torch-Geometric Handles the rest  "
   ]
  },
  {
   "cell_type": "code",
   "execution_count": null,
   "metadata": {},
   "outputs": [],
   "source": [
    "!rm ../data_path/processed/*"
   ]
  },
  {
   "cell_type": "code",
   "execution_count": null,
   "metadata": {},
   "outputs": [
    {
     "name": "stderr",
     "output_type": "stream",
     "text": [
      "Processing...\n",
      "Done!\n"
     ]
    }
   ],
   "source": [
    "dataset = ScoreDynamicsDataset(root=\"../data_path\")"
   ]
  },
  {
   "cell_type": "code",
   "execution_count": null,
   "metadata": {},
   "outputs": [
    {
     "data": {
      "text/plain": [
       "25"
      ]
     },
     "execution_count": null,
     "metadata": {},
     "output_type": "execute_result"
    }
   ],
   "source": [
    "dataset[0].edge_attr.shape[0]"
   ]
  },
  {
   "cell_type": "code",
   "execution_count": null,
   "metadata": {},
   "outputs": [
    {
     "data": {
      "text/plain": [
       "Text(0.5, 1.0, 'Gaussian Basis Functions For Methane Distances')"
      ]
     },
     "execution_count": null,
     "metadata": {},
     "output_type": "execute_result"
    },
    {
     "data": {
      "image/png": "[encoded data removed]",
      "text/plain": [
       "<Figure size 640x480 with 1 Axes>"
      ]
     },
     "metadata": {},
     "output_type": "display_data"
    }
   ],
   "source": [
    "fig, ax = plt.subplots()\n",
    "for i in range(dataset[0].edge_attr.shape[0]):\n",
    "    ax.plot(dataset[0].edge_attr[i,:].numpy(), label=f\"{i}\")\n",
    "ax.legend(ncol=5)\n",
    "ax.set_title(\"Gaussian Basis Functions For Methane Distances\")"
   ]
  },
  {
   "cell_type": "code",
   "execution_count": null,
   "metadata": {},
   "outputs": [],
   "source": [
    "#| hide\n",
    "import nbdev; nbdev.nbdev_export()"
   ]
  },
  {
   "cell_type": "code",
   "execution_count": null,
   "metadata": {},
   "outputs": [],
   "source": []
  }
 ],
 "metadata": {
  "kernelspec": {
   "display_name": "python3",
   "language": "python",
   "name": "python3"
  }
 },
 "nbformat": 4,
 "nbformat_minor": 4
}
