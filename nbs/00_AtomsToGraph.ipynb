{
 "cells": [
  {
   "cell_type": "markdown",
   "metadata": {},
   "source": [
    "# AtomsToGraph\n",
    "\n",
    "> Routine to convert ase atom objects to graphs"
   ]
  },
  {
   "cell_type": "code",
   "execution_count": null,
   "metadata": {},
   "outputs": [],
   "source": [
    "#| default_exp AtomsToGraph"
   ]
  },
  {
   "cell_type": "code",
   "execution_count": null,
   "metadata": {},
   "outputs": [],
   "source": [
    "#| hide\n",
    "from nbdev.showdoc import *\n",
    "from fastcore.test import *"
   ]
  },
  {
   "cell_type": "code",
   "execution_count": null,
   "metadata": {},
   "outputs": [],
   "source": [
    "#| export\n",
    "from ase.io import read, write\n",
    "from ase import Atoms\n",
    "from sklearn.preprocessing import OneHotEncoder\n",
    "import numpy as np\n",
    "import torch\n",
    "import torch_geometric"
   ]
  },
  {
   "cell_type": "markdown",
   "metadata": {},
   "source": [
    "## ASE File IO\n",
    "\n",
    "Read in an extxyz using ASE's read function"
   ]
  },
  {
   "cell_type": "code",
   "execution_count": null,
   "metadata": {},
   "outputs": [
    {
     "name": "stdout",
     "output_type": "stream",
     "text": [
      "Atoms(symbols='CH4', pbc=False)\n",
      "[[ 0.     0.     0.   ]\n",
      " [ 0.625  0.625  0.625]\n",
      " [-0.625 -0.625  0.625]\n",
      " [-0.625  0.625 -0.625]\n",
      " [ 0.625 -0.625 -0.625]]\n",
      "['C', 'H', 'H', 'H', 'H']\n"
     ]
    }
   ],
   "source": [
    "read_atoms = read(\"../tests/methane.extxyz\")\n",
    "print(read_atoms)\n",
    "print(read_atoms.get_positions())\n",
    "print(read_atoms.get_chemical_symbols())"
   ]
  },
  {
   "cell_type": "code",
   "execution_count": null,
   "metadata": {},
   "outputs": [
    {
     "name": "stdout",
     "output_type": "stream",
     "text": [
      "[[0.         1.08253175 1.08253175 1.08253175 1.08253175]\n",
      " [1.08253175 0.         1.76776695 1.76776695 1.76776695]\n",
      " [1.08253175 1.76776695 0.         1.76776695 1.76776695]\n",
      " [1.08253175 1.76776695 1.76776695 0.         1.76776695]\n",
      " [1.08253175 1.76776695 1.76776695 1.76776695 0.        ]]\n"
     ]
    }
   ],
   "source": [
    "#| hide\n",
    "atom_symbols = [\"C\", \"H\", \"H\", \"H\", \"H\"]\n",
    "coords = [[0.000, 0.000, 0.000],\n",
    "          [0.625, 0.625, 0.625],\n",
    "          [-0.625, -0.625, 0.625],\n",
    "          [-0.625, 0.625, -0.625],\n",
    "          [0.625, -0.625, -0.625]]\n",
    "atoms = Atoms(atom_symbols, coords)\n",
    "test_eq(read_atoms.get_positions(), atoms.get_positions())\n",
    "test_eq(read_atoms.get_chemical_symbols(), atoms.get_chemical_symbols())\n",
    "print(atoms.get_all_distances())"
   ]
  },
  {
   "cell_type": "code",
   "execution_count": null,
   "metadata": {},
   "outputs": [],
   "source": []
  },
  {
   "cell_type": "code",
   "execution_count": null,
   "metadata": {},
   "outputs": [],
   "source": [
    "#| export\n",
    "def generate_onehot_features(symbols):\n",
    "    \"\"\"Generate one-hot features for a list of atom symbols.\n",
    "\n",
    "    Args:\n",
    "        symbols (list): List of atom symbols.\n",
    "\n",
    "    Returns:\n",
    "        numpy.ndarray: One-hot features.\n",
    "    \"\"\"\n",
    "    symbols = np.array(symbols).reshape(-1, 1) # Convert List to 2D array with N rows and 1 column\n",
    "    enc = OneHotEncoder(sparse_output=False)\n",
    "    enc.fit(symbols) # Creates one-hot encoder with N rows and M unique elments for the columns\n",
    "    return enc.transform(symbols)"
   ]
  },
  {
   "cell_type": "markdown",
   "metadata": {},
   "source": [
    "## One Hot Encoding\n",
    "\n",
    "Instead of atom symbols, we use one hot encoding to discretize atom types"
   ]
  },
  {
   "cell_type": "code",
   "execution_count": null,
   "metadata": {},
   "outputs": [
    {
     "data": {
      "text/plain": [
       "array([[1., 0.],\n",
       "       [0., 1.],\n",
       "       [0., 1.],\n",
       "       [0., 1.],\n",
       "       [0., 1.]])"
      ]
     },
     "execution_count": null,
     "metadata": {},
     "output_type": "execute_result"
    }
   ],
   "source": [
    "generate_onehot_features(read_atoms.get_chemical_symbols())"
   ]
  },
  {
   "cell_type": "code",
   "execution_count": null,
   "metadata": {},
   "outputs": [],
   "source": [
    "#| hide\n",
    "methane_onehot = np.array([[1., 0.], [0., 1.], [0., 1.], [0., 1.], [0., 1.]])\n",
    "test_eq(generate_onehot_features(atom_symbols), methane_onehot)"
   ]
  },
  {
   "cell_type": "code",
   "execution_count": null,
   "metadata": {},
   "outputs": [],
   "source": []
  },
  {
   "cell_type": "code",
   "execution_count": null,
   "metadata": {},
   "outputs": [],
   "source": [
    "#| hide\n",
    "import nbdev; nbdev.nbdev_export()"
   ]
  },
  {
   "cell_type": "code",
   "execution_count": null,
   "metadata": {},
   "outputs": [],
   "source": []
  }
 ],
 "metadata": {
  "kernelspec": {
   "display_name": "python3",
   "language": "python",
   "name": "python3"
  }
 },
 "nbformat": 4,
 "nbformat_minor": 4
}
