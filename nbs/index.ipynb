{
 "cells": [
  {
   "cell_type": "code",
   "execution_count": null,
   "metadata": {},
   "outputs": [],
   "source": [
    "#| hide\n",
    "from sd_playground.core import *"
   ]
  },
  {
   "cell_type": "markdown",
   "metadata": {},
   "source": [
    "# sd-playground\n",
    "\n",
    "> score dynamics playground"
   ]
  },
  {
   "cell_type": "markdown",
   "metadata": {},
   "source": [
    "This file will become your README and also the index of your documentation."
   ]
  },
  {
   "cell_type": "markdown",
   "metadata": {},
   "source": [
    "## Install"
   ]
  },
  {
   "cell_type": "markdown",
   "metadata": {},
   "source": [
    "```sh\n",
    "pip install sd_playground\n",
    "```"
   ]
  },
  {
   "cell_type": "markdown",
   "metadata": {},
   "source": [
    "## Create a ScoreDynamicsDataset from an ASE .extxyz file"
   ]
  },
  {
   "cell_type": "markdown",
   "metadata": {},
   "source": [
    "Sample .extxyz file\n",
    "```\n",
    "6\n",
    "Properties=species:S:1:pos:R:3:forces:R:3 energy=-77.72277796 pbc=\"F F F\"\n",
    "C       -4.39717532       0.45862809       0.21702657      -0.18151511       0.05850097       0.13081778\n",
    "C       -2.94286277       0.05608291      -0.18477177      -0.16020996      -0.23942713       0.03291429\n",
    "H       -5.21669565       0.88484577       0.64266869       0.05071129      -0.05380770      -0.03889682\n",
    "H       -1.90013400       0.00152267      -1.20740881       0.18335168      -0.01440920      -0.03079471\n",
    "H       -2.98511377      -0.91700246      -0.01641436      -0.04463599       0.15749010      -0.05964312\n",
    "H       -1.88076267       0.78191861       0.19645347       0.15229809       0.09165296      -0.03439742\n",
    "6\n",
    "Properties=species:S:1:pos:R:3:forces:R:3 energy=-77.72556665 pbc=\"F F F\"\n",
    "C       -4.39771858       0.45860842       0.21671469      -0.18157517       0.06046145       0.12863659\n",
    "C       -2.94183576       0.05886248      -0.18618871      -0.16016631      -0.22654441       0.03453582\n",
    "H       -5.21619155       0.87590954       0.64995253       0.05267007      -0.05730135      -0.03867837\n",
    "H       -1.90213722      -0.01348076      -1.20396140       0.18288943      -0.01939740      -0.03194214\n",
    "H       -2.98375524      -0.91411336      -0.01203578      -0.04480964       0.15509685      -0.05993060\n",
    "H       -1.88642704       0.76985041       0.20208937       0.15099163       0.08768488      -0.03262130\n",
    "```"
   ]
  },
  {
   "cell_type": "code",
   "execution_count": null,
   "metadata": {},
   "outputs": [],
   "source": []
  }
 ],
 "metadata": {
  "kernelspec": {
   "display_name": "python3",
   "language": "python",
   "name": "python3"
  }
 },
 "nbformat": 4,
 "nbformat_minor": 4
}
